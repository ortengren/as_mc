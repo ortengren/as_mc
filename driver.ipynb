{
 "cells": [
  {
   "cell_type": "code",
   "id": "initial_id",
   "metadata": {
    "collapsed": true,
    "ExecuteTime": {
     "end_time": "2025-09-15T21:22:21.011012Z",
     "start_time": "2025-09-15T21:22:20.692801Z"
    }
   },
   "source": [
    "import numpy as np\n",
    "import ase.io\n",
    "from trial_moves import *"
   ],
   "outputs": [],
   "execution_count": 1
  },
  {
   "metadata": {
    "ExecuteTime": {
     "end_time": "2025-09-15T21:22:21.217292Z",
     "start_time": "2025-09-15T21:22:21.127499Z"
    }
   },
   "cell_type": "code",
   "source": [
    "fname = \"output/pentacenes_cg_2025-09-15T16:07.xyz\"\n",
    "ell_frames = ase.io.read(fname, \":\")"
   ],
   "id": "63c1c1f176967ac6",
   "outputs": [],
   "execution_count": 2
  },
  {
   "metadata": {
    "ExecuteTime": {
     "end_time": "2025-09-15T21:22:21.232718Z",
     "start_time": "2025-09-15T21:22:21.228045Z"
    }
   },
   "cell_type": "code",
   "source": "ell_frames[0].arrays",
   "id": "86ecd1314e0fbfbe",
   "outputs": [
    {
     "data": {
      "text/plain": [
       "{'numbers': array([0, 0]),\n",
       " 'positions': array([[ 5.26390432, 10.04130123, 11.93891047],\n",
       "        [ 5.26388448,  5.01517086, 10.59185802]]),\n",
       " 'quats': array([[-0.06813461,  0.6672451 , -0.37983578,  0.63707648],\n",
       "        [ 0.61628146, -0.40190859,  0.25090684,  0.62905676]]),\n",
       " 'c_diameter1': array([12., 12.]),\n",
       " 'c_diameter2': array([5.23976483, 5.23976015]),\n",
       " 'c_diameter3': array([1., 1.])}"
      ]
     },
     "execution_count": 3,
     "metadata": {},
     "output_type": "execute_result"
    }
   ],
   "execution_count": 3
  },
  {
   "metadata": {
    "ExecuteTime": {
     "end_time": "2025-09-15T21:23:18.200045Z",
     "start_time": "2025-09-15T21:23:18.195870Z"
    }
   },
   "cell_type": "code",
   "source": [
    "frame = ell_frames[0]\n",
    "\n",
    "nframes = [frame]\n",
    "num = 10\n",
    "for _ in range(num):\n",
    "    nframes.append(simultaneous_move(nframes[-1], 2, 0.1))\n",
    "\n",
    "ase.io.write(\"simul_m_test.xyz\", nframes)"
   ],
   "id": "3febf7626c886264",
   "outputs": [
    {
     "name": "stdout",
     "output_type": "stream",
     "text": [
      "1\n",
      "1\n",
      "1\n",
      "0\n",
      "0\n",
      "0\n",
      "1\n",
      "0\n",
      "0\n",
      "1\n"
     ]
    }
   ],
   "execution_count": 5
  },
  {
   "metadata": {
    "ExecuteTime": {
     "end_time": "2025-09-15T21:22:21.339363Z",
     "start_time": "2025-09-15T21:22:21.337887Z"
    }
   },
   "cell_type": "code",
   "source": "",
   "id": "fc7b37a89e467288",
   "outputs": [],
   "execution_count": null
  }
 ],
 "metadata": {
  "kernelspec": {
   "display_name": "Python 3",
   "language": "python",
   "name": "python3"
  },
  "language_info": {
   "codemirror_mode": {
    "name": "ipython",
    "version": 2
   },
   "file_extension": ".py",
   "mimetype": "text/x-python",
   "name": "python",
   "nbconvert_exporter": "python",
   "pygments_lexer": "ipython2",
   "version": "2.7.6"
  }
 },
 "nbformat": 4,
 "nbformat_minor": 5
}
