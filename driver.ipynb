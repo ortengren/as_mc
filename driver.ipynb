{
 "cells": [
  {
   "cell_type": "code",
   "id": "initial_id",
   "metadata": {
    "collapsed": true
   },
   "source": [
    "import numpy as np\n",
    "import ase.io\n",
    "\n",
    "from trial_moves import *\n",
    "from potentials import *\n",
    "from metropolis import *\n",
    "import ase\n",
    "import matplotlib.pyplot as plt\n",
    "import pickle\n",
    "import scipy.stats\n",
    "from scipy.spatial.transform import Rotation"
   ],
   "outputs": [],
   "execution_count": null
  },
  {
   "metadata": {},
   "cell_type": "code",
   "source": [
    "#ells = ase.io.read(\"ellipsoids.xyz\", \":\")\n",
    "#for ell in ells:\n",
    "#    axes = []\n",
    "#    or_vec = []\n",
    "#    for i, e in enumerate(ell):\n",
    "#        axes.append(np.array([2.5, 2.5, 1]))\n",
    "#        R = Rotation.from_quat(np.roll(ell.arrays[\"c_q\"][i], -1))\n",
    "#        or_vec.append(R.apply(np.array([0, 0, 1])))\n",
    "#    ell.arrays[\"axes\"] = np.array(axes)\n",
    "#    ell.arrays[\"or_vec\"] = np.array(or_vec)\n"
   ],
   "id": "4cb6c7b84b69f790",
   "outputs": [],
   "execution_count": null
  },
  {
   "metadata": {},
   "cell_type": "code",
   "source": [
    "#ase.io.write(\"ellipsoids_with_axes.xyz\", ells)\n",
    "#two_ells_with_axes = [ell for ell in ells if len(ell) == 2]\n",
    "#ase.io.write(\"two_ells_with_axes.xyz\", two_ells_with_axes)"
   ],
   "id": "455a96640f0b5c6b",
   "outputs": [],
   "execution_count": null
  },
  {
   "metadata": {},
   "cell_type": "code",
   "source": [
    "frames = ase.io.read(\"two_benzenes.xyz\", \":\")\n",
    "ell_frames = ase.io.read(\"two_ells_with_axes.xyz\", \":\")"
   ],
   "id": "75e8becaaa1f05a2",
   "outputs": [],
   "execution_count": null
  },
  {
   "metadata": {},
   "cell_type": "code",
   "source": [
    "for ell_frame, frame in zip(ell_frames, frames):\n",
    "    ell_frame.info[\"energy\"] = frame.get_total_energy()"
   ],
   "id": "549ef88082d10f70",
   "outputs": [],
   "execution_count": null
  },
  {
   "metadata": {},
   "cell_type": "code",
   "source": [
    "metro = MetropolisCalculator(ell_frames[1], energy_func=\"GB\")\n",
    "metro.calculate_trajectory(10_000)"
   ],
   "id": "db99e0353661f125",
   "outputs": [],
   "execution_count": null
  },
  {
   "metadata": {},
   "cell_type": "code",
   "source": "np.std(metro.energies)",
   "id": "29b948a618433543",
   "outputs": [],
   "execution_count": null
  },
  {
   "metadata": {},
   "cell_type": "code",
   "source": [
    "fig = plt.figure(figsize=(9, 4))\n",
    "ax = fig.subplots()\n",
    "ax.ecdf(metro.energies)\n",
    "ax.set_ylim(0, 1)"
   ],
   "id": "5eb20f88141054b8",
   "outputs": [],
   "execution_count": null
  },
  {
   "metadata": {},
   "cell_type": "code",
   "source": "plt.scatter(np.arange(len(metro.energies)), metro.energies)",
   "id": "f3f2e7f491726664",
   "outputs": [],
   "execution_count": null
  },
  {
   "metadata": {},
   "cell_type": "code",
   "source": "metro.energies",
   "id": "9e52907a14fce376",
   "outputs": [],
   "execution_count": null
  },
  {
   "metadata": {},
   "cell_type": "code",
   "source": "",
   "id": "2c2a86d2e36a29d3",
   "outputs": [],
   "execution_count": null
  }
 ],
 "metadata": {
  "kernelspec": {
   "display_name": "Python 3",
   "language": "python",
   "name": "python3"
  },
  "language_info": {
   "codemirror_mode": {
    "name": "ipython",
    "version": 2
   },
   "file_extension": ".py",
   "mimetype": "text/x-python",
   "name": "python",
   "nbconvert_exporter": "python",
   "pygments_lexer": "ipython2",
   "version": "2.7.6"
  }
 },
 "nbformat": 4,
 "nbformat_minor": 5
}
